{
 "cells": [
  {
   "cell_type": "code",
   "execution_count": 1,
   "id": "039cd480",
   "metadata": {},
   "outputs": [],
   "source": [
    "import logging\n",
    "# Configure the logging settings\n",
    "logging.basicConfig(filename='logfile.log', level=logging.INFO, filemode='w', format='%(asctime)s - %(levelname)s - %(message)s - %(lineno)d')\n"
   ]
  },
  {
   "cell_type": "code",
   "execution_count": 2,
   "id": "272d82b5",
   "metadata": {},
   "outputs": [],
   "source": [
    "#  Create a logger object\n",
    "logger = logging.getLogger()\n",
    "logger = logging.getLogger(\"my_logger\")\n"
   ]
  },
  {
   "cell_type": "code",
   "execution_count": 3,
   "id": "e6d8691b",
   "metadata": {},
   "outputs": [],
   "source": [
    "logger.setLevel(logging.DEBUG)"
   ]
  },
  {
   "cell_type": "code",
   "execution_count": 4,
   "id": "c6df35d5",
   "metadata": {},
   "outputs": [],
   "source": [
    "# Creating and configuring handlers\n",
    "file_handler = logging.FileHandler(\"app.log\")\n",
    "console_handler = logging.StreamHandler()\n"
   ]
  },
  {
   "cell_type": "code",
   "execution_count": 5,
   "id": "dc1a9a1e",
   "metadata": {},
   "outputs": [],
   "source": [
    "# Setting the log level for each handler\n",
    "file_handler.setLevel(logging.ERROR)\n",
    "console_handler.setLevel(logging.DEBUG)\n"
   ]
  },
  {
   "cell_type": "code",
   "execution_count": 6,
   "id": "df250a23",
   "metadata": {},
   "outputs": [],
   "source": [
    "# Creating a formatter\n",
    "formatter = logging.Formatter(\"%(asctime)s - %(name)s - %(levelname)s - %(message)s\")\n"
   ]
  },
  {
   "cell_type": "code",
   "execution_count": 7,
   "id": "281bbe22",
   "metadata": {},
   "outputs": [],
   "source": [
    "# Setting the formatter for each handler\n",
    "file_handler.setFormatter(formatter)\n",
    "console_handler.setFormatter(formatter)\n"
   ]
  },
  {
   "cell_type": "code",
   "execution_count": 8,
   "id": "f9e2dc68",
   "metadata": {},
   "outputs": [],
   "source": [
    "# Attaching the handlers to the logger\n",
    "logger.addHandler(file_handler)\n",
    "logger.addHandler(console_handler)"
   ]
  },
  {
   "cell_type": "code",
   "execution_count": 9,
   "id": "7bd6f083",
   "metadata": {},
   "outputs": [
    {
     "name": "stderr",
     "output_type": "stream",
     "text": [
      "2023-08-29 11:48:38,312 - my_logger - DEBUG - This is a debug message\n",
      "2023-08-29 11:48:38,323 - my_logger - INFO - This is an info message\n",
      "2023-08-29 11:48:38,327 - my_logger - WARNING - This is a warning message\n",
      "2023-08-29 11:48:38,329 - my_logger - ERROR - This is an error message\n",
      "2023-08-29 11:48:38,329 - my_logger - CRITICAL - This is a critical message\n"
     ]
    }
   ],
   "source": [
    "# Logging messages\n",
    "logger.debug(\"This is a debug message\")\n",
    "logger.info(\"This is an info message\")\n",
    "logger.warning(\"This is a warning message\")\n",
    "logger.error(\"This is an error message\")\n",
    "logger.critical(\"This is a critical message\")\n",
    "\n"
   ]
  },
  {
   "cell_type": "code",
   "execution_count": 10,
   "id": "dc8d248f",
   "metadata": {},
   "outputs": [],
   "source": [
    "def my_function():\n",
    "    logger.info('Starting my_function...')\n",
    "\n",
    "    try:\n",
    "        # Your code logic here\n",
    "        result = 10 / 2\n",
    "        logger.info('Result: %s', result)\n",
    "    except Exception as e:\n",
    "        logger.error('An error occurred: %s', str(e))\n",
    "    finally:\n",
    "        logger.info('Finished my_function.')\n"
   ]
  },
  {
   "cell_type": "code",
   "execution_count": 11,
   "id": "feeb9780",
   "metadata": {},
   "outputs": [
    {
     "name": "stderr",
     "output_type": "stream",
     "text": [
      "2023-08-29 11:49:05,988 - my_logger - INFO - Program started.\n",
      "2023-08-29 11:49:05,995 - my_logger - INFO - Starting my_function...\n",
      "2023-08-29 11:49:05,997 - my_logger - INFO - Result: 5.0\n",
      "2023-08-29 11:49:05,997 - my_logger - INFO - Finished my_function.\n",
      "2023-08-29 11:49:05,998 - my_logger - INFO - Program finished.\n"
     ]
    }
   ],
   "source": [
    "if __name__ == \"__main__\":\n",
    "    # Your main code here\n",
    "    logger.info('Program started.')\n",
    "    my_function()\n",
    "    logger.info('Program finished.')"
   ]
  },
  {
   "cell_type": "code",
   "execution_count": 12,
   "id": "c49f55b8",
   "metadata": {},
   "outputs": [
    {
     "name": "stderr",
     "output_type": "stream",
     "text": [
      "2023-08-29 11:51:08,744 - my_logger - DEBUG - this is debug\n"
     ]
    }
   ],
   "source": [
    "logger.debug('this is debug')"
   ]
  },
  {
   "cell_type": "code",
   "execution_count": 13,
   "id": "4624a131",
   "metadata": {},
   "outputs": [
    {
     "name": "stderr",
     "output_type": "stream",
     "text": [
      "2023-08-29 11:51:15,135 - my_logger - INFO - this is info\n"
     ]
    }
   ],
   "source": [
    "logger.info('this is info')"
   ]
  },
  {
   "cell_type": "code",
   "execution_count": 14,
   "id": "ecc9798a",
   "metadata": {},
   "outputs": [
    {
     "name": "stderr",
     "output_type": "stream",
     "text": [
      "2023-08-29 11:51:21,039 - my_logger - WARNING - this is warning\n"
     ]
    }
   ],
   "source": [
    "logger.warning('this is warning')"
   ]
  },
  {
   "cell_type": "code",
   "execution_count": 15,
   "id": "6453ebcf",
   "metadata": {},
   "outputs": [
    {
     "name": "stderr",
     "output_type": "stream",
     "text": [
      "2023-08-29 11:51:27,521 - my_logger - ERROR - This is error\n"
     ]
    }
   ],
   "source": [
    "logger.error(\"This is error\")"
   ]
  },
  {
   "cell_type": "code",
   "execution_count": 16,
   "id": "cf9b68bf",
   "metadata": {},
   "outputs": [
    {
     "name": "stderr",
     "output_type": "stream",
     "text": [
      "2023-08-29 11:51:32,528 - my_logger - CRITICAL - this is critical\n"
     ]
    }
   ],
   "source": [
    "logger.critical('this is critical')"
   ]
  },
  {
   "cell_type": "code",
   "execution_count": null,
   "id": "f4d98ae7",
   "metadata": {},
   "outputs": [],
   "source": []
  }
 ],
 "metadata": {
  "kernelspec": {
   "display_name": "Python 3 (ipykernel)",
   "language": "python",
   "name": "python3"
  },
  "language_info": {
   "codemirror_mode": {
    "name": "ipython",
    "version": 3
   },
   "file_extension": ".py",
   "mimetype": "text/x-python",
   "name": "python",
   "nbconvert_exporter": "python",
   "pygments_lexer": "ipython3",
   "version": "3.9.7"
  }
 },
 "nbformat": 4,
 "nbformat_minor": 5
}
